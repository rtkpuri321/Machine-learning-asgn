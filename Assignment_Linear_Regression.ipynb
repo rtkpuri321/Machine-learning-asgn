{
  "nbformat": 4,
  "nbformat_minor": 0,
  "metadata": {
    "colab": {
      "name": "ASSIGNMENT5_ML_101916010_inbuild_1.ipynb",
      "provenance": [],
      "collapsed_sections": []
    },
    "kernelspec": {
      "name": "python3",
      "display_name": "Python 3"
    },
    "language_info": {
      "name": "python"
    }
  },
  "cells": [
    {
      "cell_type": "code",
      "metadata": {
        "colab": {
          "base_uri": "https://localhost:8080/",
          "height": 329
        },
        "id": "2SceEj7xEvI4",
        "outputId": "41fee412-52a7-4cfc-8997-c3fdd549e949"
      },
      "source": [
        "#ques1\n",
        "import pandas as pd\n",
        "import numpy as np\n",
        "import matplotlib.pyplot as plt\n",
        "\n",
        "dataset=pd.read_csv('/content/drive/MyDrive/price.csv')\n",
        "X=dataset.iloc[:,1:2].values\n",
        "y=dataset.iloc[:,0].values\n",
        "\n",
        "from sklearn.linear_model import LinearRegression\n",
        "regressor=LinearRegression()\n",
        "regressor.fit(X,y)\n",
        "\n",
        "x_predict=[[3000],[2000],[1500]]\n",
        "y_predict=regressor.predict(x_predict)\n",
        "print(\"Predicted Value of 3000, 2000, 1500: \")\n",
        "print(y_predict)\n",
        "\n",
        "plt.scatter(X,y,color='blue')\n",
        "plt.plot(X, regressor.predict(X), color = 'red')\n",
        "plt.title('Linear regression')\n",
        "plt.xlabel('area')\n",
        "plt.ylabel('price')\n",
        "plt.show()"
      ],
      "execution_count": null,
      "outputs": [
        {
          "output_type": "stream",
          "name": "stdout",
          "text": [
            "Predicted Value of 3000, 2000, 1500: \n",
            "[427.55154311 317.78380528 262.89993637]\n"
          ]
        },
        {
          "output_type": "display_data",
          "data": {
            "image/png": "[encoded data removed]",
            "text/plain": [
              "<Figure size 432x288 with 1 Axes>"
            ]
          },
          "metadata": {
            "needs_background": "light"
          }
        }
      ]
    },
    {
      "cell_type": "code",
      "metadata": {
        "colab": {
          "base_uri": "https://localhost:8080/"
        },
        "id": "83wX3kvBd8yC",
        "outputId": "c4182668-1ea5-4036-e9f1-514d8d7c1540"
      },
      "source": [
        "#ques2\n",
        "import pandas as pd\n",
        "import numpy as np\n",
        "import matplotlib.pyplot as plt\n",
        "\n",
        "dataset=pd.read_csv('/content/drive/MyDrive/unemployement.csv')\n",
        "X=dataset.iloc[:,0:-1].values\n",
        "y=dataset.iloc[:,-1].values\n",
        "from sklearn.linear_model import LinearRegression\n",
        "regressor=LinearRegression()\n",
        "regressor.fit(X,y)\n",
        "\n",
        "x_predict=[[2016,9,1.5,5.8],[2016,9,2.75,5.3]]\n",
        "y_predict=regressor.predict(x_predict)\n",
        "print(\"Predicted Value: \")\n",
        "print(y_predict)"
      ],
      "execution_count": null,
      "outputs": [
        {
          "output_type": "stream",
          "name": "stdout",
          "text": [
            "Predicted Value: \n",
            "[930.43110858 997.78583225]\n"
          ]
        }
      ]
    },
    {
      "cell_type": "code",
      "metadata": {
        "colab": {
          "base_uri": "https://localhost:8080/"
        },
        "id": "Nsf73sTdxkX4",
        "outputId": "a1238a3e-d392-43f4-b81a-ab3a69cbade3"
      },
      "source": [
        "from google.colab import drive\n",
        "drive.mount('/content/drive')"
      ],
      "execution_count": null,
      "outputs": [
        {
          "output_type": "stream",
          "name": "stdout",
          "text": [
            "Mounted at /content/drive\n"
          ]
        }
      ]
    },
    {
      "cell_type": "code",
      "metadata": {
        "id": "BRTNJuNXxy3J"
      },
      "source": [
        ""
      ],
      "execution_count": null,
      "outputs": []
    }
  ]
}
