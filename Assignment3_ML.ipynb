{
  "nbformat": 4,
  "nbformat_minor": 0,
  "metadata": {
    "colab": {
      "name": "MLassignment3.ipynb",
      "provenance": [],
      "collapsed_sections": []
    },
    "kernelspec": {
      "name": "python3",
      "display_name": "Python 3"
    },
    "language_info": {
      "name": "python"
    }
  },
  "cells": [
    {
      "cell_type": "code",
      "metadata": {
        "id": "MHBDEuETT6Ms",
        "colab": {
          "base_uri": "https://localhost:8080/"
        },
        "outputId": "062bc47c-24cf-446a-daab-559650799fb2"
      },
      "source": [
        "import pandas as pd\n",
        "df = pd.read_csv(\"/content/drive/MyDrive/AWCustomers.csv\")\n",
        "df.info()\n",
        "type(df)"
      ],
      "execution_count": null,
      "outputs": [
        {
          "output_type": "stream",
          "name": "stdout",
          "text": [
            "<class 'pandas.core.frame.DataFrame'>\n",
            "RangeIndex: 18361 entries, 0 to 18360\n",
            "Data columns (total 24 columns):\n",
            " #   Column                Non-Null Count  Dtype \n",
            "---  ------                --------------  ----- \n",
            " 0   CustomerID            18361 non-null  int64 \n",
            " 1   Title                 101 non-null    object\n",
            " 2   FirstName             18361 non-null  object\n",
            " 3   MiddleName            10572 non-null  object\n",
            " 4   LastName              18361 non-null  object\n",
            " 5   Suffix                3 non-null      object\n",
            " 6   AddressLine1          18361 non-null  object\n",
            " 7   AddressLine2          311 non-null    object\n",
            " 8   City                  18361 non-null  object\n",
            " 9   StateProvinceName     18361 non-null  object\n",
            " 10  CountryRegionName     18361 non-null  object\n",
            " 11  PostalCode            18361 non-null  object\n",
            " 12  PhoneNumber           18361 non-null  object\n",
            " 13  BirthDate             18361 non-null  object\n",
            " 14  Education             18361 non-null  object\n",
            " 15  Occupation            18361 non-null  object\n",
            " 16  Gender                18361 non-null  object\n",
            " 17  MaritalStatus         18361 non-null  object\n",
            " 18  HomeOwnerFlag         18361 non-null  int64 \n",
            " 19  NumberCarsOwned       18361 non-null  int64 \n",
            " 20  NumberChildrenAtHome  18361 non-null  int64 \n",
            " 21  TotalChildren         18361 non-null  int64 \n",
            " 22  YearlyIncome          18361 non-null  int64 \n",
            " 23  LastUpdated           18361 non-null  object\n",
            "dtypes: int64(6), object(18)\n",
            "memory usage: 3.4+ MB\n"
          ]
        },
        {
          "output_type": "execute_result",
          "data": {
            "text/plain": [
              "pandas.core.frame.DataFrame"
            ]
          },
          "metadata": {},
          "execution_count": 1
        }
      ]
    },
    {
      "cell_type": "code",
      "metadata": {
        "id": "jnLnYEJcwpGq",
        "colab": {
          "base_uri": "https://localhost:8080/",
          "height": 589
        },
        "outputId": "12d7601b-8a72-4d9a-d3c8-ff304c96d54d"
      },
      "source": [
        "#PART 1 B)\n",
        "#filtering out unnecessary columns\n",
        "n_df = df.filter(['CustomerID','FirstName','LastName','AddressLine1','City','StateProvinceName','PostalCode','PhoneNumber','BirthDate'])\n",
        "n_df"
      ],
      "execution_count": null,
      "outputs": [
        {
          "output_type": "execute_result",
          "data": {
            "text/html": [
              "<div>\n",
              "<style scoped>\n",
              "    .dataframe tbody tr th:only-of-type {\n",
              "        vertical-align: middle;\n",
              "    }\n",
              "\n",
              "    .dataframe tbody tr th {\n",
              "        vertical-align: top;\n",
              "    }\n",
              "\n",
              "    .dataframe thead th {\n",
              "        text-align: right;\n",
              "    }\n",
              "</style>\n",
              "<table border=\"1\" class=\"dataframe\">\n",
              "  <thead>\n",
              "    <tr style=\"text-align: right;\">\n",
              "      <th></th>\n",
              "      <th>CustomerID</th>\n",
              "      <th>FirstName</th>\n",
              "      <th>LastName</th>\n",
              "      <th>AddressLine1</th>\n",
              "      <th>City</th>\n",
              "      <th>StateProvinceName</th>\n",
              "      <th>PostalCode</th>\n",
              "      <th>PhoneNumber</th>\n",
              "      <th>BirthDate</th>\n",
              "    </tr>\n",
              "  </thead>\n",
              "  <tbody>\n",
              "    <tr>\n",
              "      <th>0</th>\n",
              "      <td>21173</td>\n",
              "      <td>Chad</td>\n",
              "      <td>Yuan</td>\n",
              "      <td>7090 C. Mount Hood</td>\n",
              "      <td>Wollongong</td>\n",
              "      <td>New South Wales</td>\n",
              "      <td>2500</td>\n",
              "      <td>1 (11) 500 555-0115</td>\n",
              "      <td>1987-11-13</td>\n",
              "    </tr>\n",
              "    <tr>\n",
              "      <th>1</th>\n",
              "      <td>13249</td>\n",
              "      <td>Ryan</td>\n",
              "      <td>Perry</td>\n",
              "      <td>3651 Willow Lake Rd</td>\n",
              "      <td>Shawnee</td>\n",
              "      <td>British Columbia</td>\n",
              "      <td>V9B 2C3</td>\n",
              "      <td>787-555-0136</td>\n",
              "      <td>1972-07-21</td>\n",
              "    </tr>\n",
              "    <tr>\n",
              "      <th>2</th>\n",
              "      <td>29350</td>\n",
              "      <td>Julia</td>\n",
              "      <td>Thompson</td>\n",
              "      <td>1774 Tice Valley Blvd.</td>\n",
              "      <td>West Covina</td>\n",
              "      <td>California</td>\n",
              "      <td>91791</td>\n",
              "      <td>120-555-0111</td>\n",
              "      <td>1985-11-09</td>\n",
              "    </tr>\n",
              "    <tr>\n",
              "      <th>3</th>\n",
              "      <td>13503</td>\n",
              "      <td>Theodore</td>\n",
              "      <td>Gomez</td>\n",
              "      <td>2103 Baldwin Dr</td>\n",
              "      <td>Liverpool</td>\n",
              "      <td>England</td>\n",
              "      <td>L4 4HB</td>\n",
              "      <td>1 (11) 500 555-0167</td>\n",
              "      <td>1977-10-18</td>\n",
              "    </tr>\n",
              "    <tr>\n",
              "      <th>4</th>\n",
              "      <td>22803</td>\n",
              "      <td>Marshall</td>\n",
              "      <td>Shan</td>\n",
              "      <td>Am Gallberg 234</td>\n",
              "      <td>Werne</td>\n",
              "      <td>Nordrhein-Westfalen</td>\n",
              "      <td>59368</td>\n",
              "      <td>1 (11) 500 555-0113</td>\n",
              "      <td>1975-02-05</td>\n",
              "    </tr>\n",
              "    <tr>\n",
              "      <th>...</th>\n",
              "      <td>...</td>\n",
              "      <td>...</td>\n",
              "      <td>...</td>\n",
              "      <td>...</td>\n",
              "      <td>...</td>\n",
              "      <td>...</td>\n",
              "      <td>...</td>\n",
              "      <td>...</td>\n",
              "      <td>...</td>\n",
              "    </tr>\n",
              "    <tr>\n",
              "      <th>18356</th>\n",
              "      <td>25414</td>\n",
              "      <td>Grace</td>\n",
              "      <td>Bailey</td>\n",
              "      <td>6627 Camelback Ct.</td>\n",
              "      <td>Coronado</td>\n",
              "      <td>California</td>\n",
              "      <td>92118</td>\n",
              "      <td>292-555-0130</td>\n",
              "      <td>1990-11-11</td>\n",
              "    </tr>\n",
              "    <tr>\n",
              "      <th>18357</th>\n",
              "      <td>11459</td>\n",
              "      <td>Tasha</td>\n",
              "      <td>Deng</td>\n",
              "      <td>9627 Kendall Rd</td>\n",
              "      <td>Port Macquarie</td>\n",
              "      <td>New South Wales</td>\n",
              "      <td>2444</td>\n",
              "      <td>1 (11) 500 555-0171</td>\n",
              "      <td>1992-10-13</td>\n",
              "    </tr>\n",
              "    <tr>\n",
              "      <th>18358</th>\n",
              "      <td>12160</td>\n",
              "      <td>Jaclyn</td>\n",
              "      <td>Zhang</td>\n",
              "      <td>4364 Viera Avenue</td>\n",
              "      <td>Beaverton</td>\n",
              "      <td>Oregon</td>\n",
              "      <td>97005</td>\n",
              "      <td>819-555-0110</td>\n",
              "      <td>1983-11-24</td>\n",
              "    </tr>\n",
              "    <tr>\n",
              "      <th>18359</th>\n",
              "      <td>14353</td>\n",
              "      <td>Erin</td>\n",
              "      <td>Reed</td>\n",
              "      <td>3866 Mt. Everest Court</td>\n",
              "      <td>Vancouver</td>\n",
              "      <td>British Columbia</td>\n",
              "      <td>V7L 4J4</td>\n",
              "      <td>791-555-0118</td>\n",
              "      <td>1995-06-15</td>\n",
              "    </tr>\n",
              "    <tr>\n",
              "      <th>18360</th>\n",
              "      <td>16676</td>\n",
              "      <td>Amanda</td>\n",
              "      <td>Perry</td>\n",
              "      <td>7870 Orangewood Dr.</td>\n",
              "      <td>Grossmont</td>\n",
              "      <td>California</td>\n",
              "      <td>91941</td>\n",
              "      <td>553-555-0122</td>\n",
              "      <td>1986-03-26</td>\n",
              "    </tr>\n",
              "  </tbody>\n",
              "</table>\n",
              "<p>18361 rows × 9 columns</p>\n",
              "</div>"
            ],
            "text/plain": [
              "       CustomerID FirstName  ...          PhoneNumber   BirthDate\n",
              "0           21173      Chad  ...  1 (11) 500 555-0115  1987-11-13\n",
              "1           13249      Ryan  ...         787-555-0136  1972-07-21\n",
              "2           29350     Julia  ...         120-555-0111  1985-11-09\n",
              "3           13503  Theodore  ...  1 (11) 500 555-0167  1977-10-18\n",
              "4           22803  Marshall  ...  1 (11) 500 555-0113  1975-02-05\n",
              "...           ...       ...  ...                  ...         ...\n",
              "18356       25414     Grace  ...         292-555-0130  1990-11-11\n",
              "18357       11459     Tasha  ...  1 (11) 500 555-0171  1992-10-13\n",
              "18358       12160    Jaclyn  ...         819-555-0110  1983-11-24\n",
              "18359       14353      Erin  ...         791-555-0118  1995-06-15\n",
              "18360       16676    Amanda  ...         553-555-0122  1986-03-26\n",
              "\n",
              "[18361 rows x 9 columns]"
            ]
          },
          "metadata": {},
          "execution_count": 6
        }
      ]
    },
    {
      "cell_type": "code",
      "metadata": {
        "colab": {
          "base_uri": "https://localhost:8080/",
          "height": 275
        },
        "id": "OfAT852IyDu1",
        "outputId": "cf57b9d3-75c0-494a-9053-72258df1d9fa"
      },
      "source": [
        "df1 = pd.DataFrame(data = df)\n",
        "df2 = df1.loc[: , ['CustomerID' , 'Education' , 'Occupation' , 'Gender' , 'MaritalStatus' ,  'HomeOwnerFlag', 'NumberCarsOwned', 'NumberChildrenAtHome', 'YearlyIncome', 'Age']]\n",
        "df2.head()"
      ],
      "execution_count": null,
      "outputs": [
        {
          "output_type": "execute_result",
          "data": {
            "text/html": [
              "<div>\n",
              "<style scoped>\n",
              "    .dataframe tbody tr th:only-of-type {\n",
              "        vertical-align: middle;\n",
              "    }\n",
              "\n",
              "    .dataframe tbody tr th {\n",
              "        vertical-align: top;\n",
              "    }\n",
              "\n",
              "    .dataframe thead th {\n",
              "        text-align: right;\n",
              "    }\n",
              "</style>\n",
              "<table border=\"1\" class=\"dataframe\">\n",
              "  <thead>\n",
              "    <tr style=\"text-align: right;\">\n",
              "      <th></th>\n",
              "      <th>CustomerID</th>\n",
              "      <th>Education</th>\n",
              "      <th>Occupation</th>\n",
              "      <th>Gender</th>\n",
              "      <th>MaritalStatus</th>\n",
              "      <th>HomeOwnerFlag</th>\n",
              "      <th>NumberCarsOwned</th>\n",
              "      <th>NumberChildrenAtHome</th>\n",
              "      <th>YearlyIncome</th>\n",
              "      <th>Age</th>\n",
              "    </tr>\n",
              "  </thead>\n",
              "  <tbody>\n",
              "    <tr>\n",
              "      <th>0</th>\n",
              "      <td>21173</td>\n",
              "      <td>Bachelors</td>\n",
              "      <td>Clerical</td>\n",
              "      <td>M</td>\n",
              "      <td>M</td>\n",
              "      <td>1</td>\n",
              "      <td>3</td>\n",
              "      <td>0</td>\n",
              "      <td>81916</td>\n",
              "      <td>33</td>\n",
              "    </tr>\n",
              "    <tr>\n",
              "      <th>1</th>\n",
              "      <td>13249</td>\n",
              "      <td>Partial College</td>\n",
              "      <td>Clerical</td>\n",
              "      <td>M</td>\n",
              "      <td>M</td>\n",
              "      <td>1</td>\n",
              "      <td>2</td>\n",
              "      <td>1</td>\n",
              "      <td>81076</td>\n",
              "      <td>49</td>\n",
              "    </tr>\n",
              "    <tr>\n",
              "      <th>2</th>\n",
              "      <td>29350</td>\n",
              "      <td>Bachelors</td>\n",
              "      <td>Clerical</td>\n",
              "      <td>F</td>\n",
              "      <td>S</td>\n",
              "      <td>0</td>\n",
              "      <td>3</td>\n",
              "      <td>0</td>\n",
              "      <td>86387</td>\n",
              "      <td>35</td>\n",
              "    </tr>\n",
              "    <tr>\n",
              "      <th>3</th>\n",
              "      <td>13503</td>\n",
              "      <td>Partial College</td>\n",
              "      <td>Skilled Manual</td>\n",
              "      <td>M</td>\n",
              "      <td>M</td>\n",
              "      <td>1</td>\n",
              "      <td>2</td>\n",
              "      <td>1</td>\n",
              "      <td>61481</td>\n",
              "      <td>43</td>\n",
              "    </tr>\n",
              "    <tr>\n",
              "      <th>4</th>\n",
              "      <td>22803</td>\n",
              "      <td>Partial College</td>\n",
              "      <td>Skilled Manual</td>\n",
              "      <td>M</td>\n",
              "      <td>S</td>\n",
              "      <td>1</td>\n",
              "      <td>1</td>\n",
              "      <td>0</td>\n",
              "      <td>51804</td>\n",
              "      <td>46</td>\n",
              "    </tr>\n",
              "  </tbody>\n",
              "</table>\n",
              "</div>"
            ],
            "text/plain": [
              "   CustomerID        Education  ... YearlyIncome Age\n",
              "0       21173        Bachelors  ...        81916  33\n",
              "1       13249  Partial College  ...        81076  49\n",
              "2       29350        Bachelors  ...        86387  35\n",
              "3       13503  Partial College  ...        61481  43\n",
              "4       22803  Partial College  ...        51804  46\n",
              "\n",
              "[5 rows x 10 columns]"
            ]
          },
          "metadata": {},
          "execution_count": 35
        }
      ]
    },
    {
      "cell_type": "code",
      "metadata": {
        "colab": {
          "base_uri": "https://localhost:8080/"
        },
        "id": "g6k_UOIryo8F",
        "outputId": "5bb6599d-45d2-4af2-864a-66a4a9a4465a"
      },
      "source": [
        "df2['Education'].value_counts()"
      ],
      "execution_count": null,
      "outputs": [
        {
          "output_type": "execute_result",
          "data": {
            "text/plain": [
              "Bachelors              5325\n",
              "Partial College        5024\n",
              "High School            3274\n",
              "Graduate Degree        3163\n",
              "Partial High School    1575\n",
              "Name: Education, dtype: int64"
            ]
          },
          "metadata": {},
          "execution_count": 36
        }
      ]
    },
    {
      "cell_type": "code",
      "metadata": {
        "colab": {
          "base_uri": "https://localhost:8080/"
        },
        "id": "t7mNqYXezJwb",
        "outputId": "7fd76e9f-33d5-4fb4-f40a-73e949f1bdfd"
      },
      "source": [
        "df2['Education'] = df2['Education'].map({'Partial High School' : 1, 'High School' : 2, 'Partial College' : 3, 'Bachelors' : 4, 'Graduate Degree' : 5})\n",
        "df2['Occupation'].value_counts()"
      ],
      "execution_count": null,
      "outputs": [
        {
          "output_type": "execute_result",
          "data": {
            "text/plain": [
              "Skilled Manual    6059\n",
              "Clerical          4464\n",
              "Manual            3377\n",
              "Management        2858\n",
              "Professional      1603\n",
              "Name: Occupation, dtype: int64"
            ]
          },
          "metadata": {},
          "execution_count": 37
        }
      ]
    },
    {
      "cell_type": "code",
      "metadata": {
        "id": "k5ZYOnMJzMZ4"
      },
      "source": [
        "df2['Occupation'] = df2['Occupation'].map({'Manual' : 1, 'Skilled Manual' : 2, 'Clerical' : 3, 'Management' : 4, 'Professional' : 5})"
      ],
      "execution_count": null,
      "outputs": []
    },
    {
      "cell_type": "code",
      "metadata": {
        "colab": {
          "base_uri": "https://localhost:8080/",
          "height": 224
        },
        "id": "-S6F1gfnzO3d",
        "outputId": "86243991-1051-4e47-fa72-5638cf3d1fd3"
      },
      "source": [
        "def cardinal_columns(df):\n",
        "  df['Gender'] = df['Gender'].map({'M' : 1, 'F' : 0})\n",
        "  df['MaritalStatus'] = df['MaritalStatus'].map({'M' : 1, 'S' : 0})\n",
        "  return df\n",
        "df2 = cardinal_columns(df2)\n",
        "df2.head()"
      ],
      "execution_count": null,
      "outputs": [
        {
          "output_type": "execute_result",
          "data": {
            "text/html": [
              "<div>\n",
              "<style scoped>\n",
              "    .dataframe tbody tr th:only-of-type {\n",
              "        vertical-align: middle;\n",
              "    }\n",
              "\n",
              "    .dataframe tbody tr th {\n",
              "        vertical-align: top;\n",
              "    }\n",
              "\n",
              "    .dataframe thead th {\n",
              "        text-align: right;\n",
              "    }\n",
              "</style>\n",
              "<table border=\"1\" class=\"dataframe\">\n",
              "  <thead>\n",
              "    <tr style=\"text-align: right;\">\n",
              "      <th></th>\n",
              "      <th>CustomerID</th>\n",
              "      <th>Education</th>\n",
              "      <th>Occupation</th>\n",
              "      <th>Gender</th>\n",
              "      <th>MaritalStatus</th>\n",
              "      <th>HomeOwnerFlag</th>\n",
              "      <th>NumberCarsOwned</th>\n",
              "      <th>NumberChildrenAtHome</th>\n",
              "      <th>YearlyIncome</th>\n",
              "      <th>Age</th>\n",
              "    </tr>\n",
              "  </thead>\n",
              "  <tbody>\n",
              "    <tr>\n",
              "      <th>0</th>\n",
              "      <td>21173</td>\n",
              "      <td>4</td>\n",
              "      <td>3</td>\n",
              "      <td>1</td>\n",
              "      <td>1</td>\n",
              "      <td>1</td>\n",
              "      <td>3</td>\n",
              "      <td>0</td>\n",
              "      <td>81916</td>\n",
              "      <td>33</td>\n",
              "    </tr>\n",
              "    <tr>\n",
              "      <th>1</th>\n",
              "      <td>13249</td>\n",
              "      <td>3</td>\n",
              "      <td>3</td>\n",
              "      <td>1</td>\n",
              "      <td>1</td>\n",
              "      <td>1</td>\n",
              "      <td>2</td>\n",
              "      <td>1</td>\n",
              "      <td>81076</td>\n",
              "      <td>49</td>\n",
              "    </tr>\n",
              "    <tr>\n",
              "      <th>2</th>\n",
              "      <td>29350</td>\n",
              "      <td>4</td>\n",
              "      <td>3</td>\n",
              "      <td>0</td>\n",
              "      <td>0</td>\n",
              "      <td>0</td>\n",
              "      <td>3</td>\n",
              "      <td>0</td>\n",
              "      <td>86387</td>\n",
              "      <td>35</td>\n",
              "    </tr>\n",
              "    <tr>\n",
              "      <th>3</th>\n",
              "      <td>13503</td>\n",
              "      <td>3</td>\n",
              "      <td>2</td>\n",
              "      <td>1</td>\n",
              "      <td>1</td>\n",
              "      <td>1</td>\n",
              "      <td>2</td>\n",
              "      <td>1</td>\n",
              "      <td>61481</td>\n",
              "      <td>43</td>\n",
              "    </tr>\n",
              "    <tr>\n",
              "      <th>4</th>\n",
              "      <td>22803</td>\n",
              "      <td>3</td>\n",
              "      <td>2</td>\n",
              "      <td>1</td>\n",
              "      <td>0</td>\n",
              "      <td>1</td>\n",
              "      <td>1</td>\n",
              "      <td>0</td>\n",
              "      <td>51804</td>\n",
              "      <td>46</td>\n",
              "    </tr>\n",
              "  </tbody>\n",
              "</table>\n",
              "</div>"
            ],
            "text/plain": [
              "   CustomerID  Education  Occupation  ...  NumberChildrenAtHome  YearlyIncome  Age\n",
              "0       21173          4           3  ...                     0         81916   33\n",
              "1       13249          3           3  ...                     1         81076   49\n",
              "2       29350          4           3  ...                     0         86387   35\n",
              "3       13503          3           2  ...                     1         61481   43\n",
              "4       22803          3           2  ...                     0         51804   46\n",
              "\n",
              "[5 rows x 10 columns]"
            ]
          },
          "metadata": {},
          "execution_count": 39
        }
      ]
    },
    {
      "cell_type": "code",
      "metadata": {
        "colab": {
          "base_uri": "https://localhost:8080/"
        },
        "id": "I9s2mcXSzeRz",
        "outputId": "784a2fba-b10f-4ab9-9496-3feb51ff6059"
      },
      "source": [
        "df2.isnull().sum()"
      ],
      "execution_count": null,
      "outputs": [
        {
          "output_type": "execute_result",
          "data": {
            "text/plain": [
              "CustomerID              0\n",
              "Education               0\n",
              "Occupation              0\n",
              "Gender                  0\n",
              "MaritalStatus           0\n",
              "HomeOwnerFlag           0\n",
              "NumberCarsOwned         0\n",
              "NumberChildrenAtHome    0\n",
              "YearlyIncome            0\n",
              "Age                     0\n",
              "dtype: int64"
            ]
          },
          "metadata": {},
          "execution_count": 40
        }
      ]
    },
    {
      "cell_type": "code",
      "metadata": {
        "id": "U3V5heIpznPx"
      },
      "source": [
        "from sklearn.preprocessing import MinMaxScaler"
      ],
      "execution_count": null,
      "outputs": []
    },
    {
      "cell_type": "code",
      "metadata": {
        "id": "qd6F0-B_zp2x"
      },
      "source": [
        "def scale_down(df):\n",
        "    scaler = MinMaxScaler()\n",
        "    scaled = scaler.fit_transform(df[['YearlyIncome', 'Age']])\n",
        "    df['YearlyIncomeScaled'] = scaled[:, 0] \n",
        "    df['AgeScaled'] = scaled[:, 1]\n",
        "    df.drop(['YearlyIncome', 'Age'], axis = 1, inplace = True)\n",
        "    return df\n",
        "\n",
        "df2 = scale_down(df2)"
      ],
      "execution_count": null,
      "outputs": []
    },
    {
      "cell_type": "code",
      "metadata": {
        "id": "0wuvI-sf2l4V"
      },
      "source": [
        "from scipy.spatial import distance"
      ],
      "execution_count": null,
      "outputs": []
    },
    {
      "cell_type": "code",
      "metadata": {
        "colab": {
          "base_uri": "https://localhost:8080/"
        },
        "id": "WsO_8UHD2oZl",
        "outputId": "34f8ab67-d8a7-4e41-c11d-2cc074e4174f"
      },
      "source": [
        "distance.cosine(df2['Education'].values, df2['YearlyIncomeScaled'].values)"
      ],
      "execution_count": null,
      "outputs": [
        {
          "output_type": "execute_result",
          "data": {
            "text/plain": [
              "0.12448913241018533"
            ]
          },
          "metadata": {},
          "execution_count": 44
        }
      ]
    },
    {
      "cell_type": "code",
      "metadata": {
        "colab": {
          "base_uri": "https://localhost:8080/"
        },
        "id": "1hbNtH402qb2",
        "outputId": "d30484f6-cbca-4377-ba2f-1645a8593cbe"
      },
      "source": [
        "distance.jaccard(df2['Education'].values, df2['YearlyIncomeScaled'].values)"
      ],
      "execution_count": null,
      "outputs": [
        {
          "output_type": "execute_result",
          "data": {
            "text/plain": [
              "1.0"
            ]
          },
          "metadata": {},
          "execution_count": 45
        }
      ]
    },
    {
      "cell_type": "code",
      "metadata": {
        "id": "mJRJDX0Q2s7C",
        "colab": {
          "base_uri": "https://localhost:8080/"
        },
        "outputId": "9c2516c7-800c-4cca-b7ae-2851a232f868"
      },
      "source": [
        "from scipy.stats import pearsonr\n",
        "pearsonr(df2['Education'].values, df2['YearlyIncomeScaled'].values)[0]"
      ],
      "execution_count": null,
      "outputs": [
        {
          "output_type": "execute_result",
          "data": {
            "text/plain": [
              "0.4676648355054895"
            ]
          },
          "metadata": {},
          "execution_count": 46
        }
      ]
    },
    {
      "cell_type": "code",
      "metadata": {
        "id": "l93RHZPE2wPv"
      },
      "source": [
        ""
      ],
      "execution_count": null,
      "outputs": []
    }
  ]
}