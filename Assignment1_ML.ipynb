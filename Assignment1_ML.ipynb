{
  "nbformat": 4,
  "nbformat_minor": 0,
  "metadata": {
    "kernelspec": {
      "name": "python3",
      "display_name": "Python 3"
    },
    "language_info": {
      "name": "python"
    }
  },
  "cells": [
    {
      "cell_type": "markdown",
      "metadata": {
        "id": "929-wRuSlBMc"
      },
      "source": [
        "Name - Ritik Puri\n",
        "\n",
        "---\n",
        "\n",
        "\n",
        "Batch-CS9\n",
        "\n",
        "---\n",
        "\n",
        "\n",
        "Roll No - 101916010"
      ]
    },
    {
      "cell_type": "code",
      "metadata": {
        "colab": {
          "base_uri": "https://localhost:8080/"
        },
        "id": "rbiSP0gpnq4q",
        "outputId": "780d0205-897d-4c03-9295-15f4603e499b"
      },
      "source": [
        "#QUES-1\n",
        "s=\"Hi there Class!\"\n",
        "print(s[0])\n",
        "x=s.split()\n",
        "print(x[0])\n"
      ],
      "execution_count": null,
      "outputs": [
        {
          "output_type": "stream",
          "text": [
            "H\n",
            "Hi\n"
          ],
          "name": "stdout"
        }
      ]
    },
    {
      "cell_type": "code",
      "metadata": {
        "colab": {
          "base_uri": "https://localhost:8080/"
        },
        "id": "HAkiM1Uen3xj",
        "outputId": "c4908cb5-3ad3-413f-c485-c65f0b789a24"
      },
      "source": [
        "#QUES-2\n",
        "planet=\"Earth\"\n",
        "diameter=12742\n",
        "statement=\"The diameter of {} is {} kilometers.\".format(planet,diameter)\n",
        "print(statement)"
      ],
      "execution_count": null,
      "outputs": [
        {
          "output_type": "stream",
          "text": [
            "The diameter of Earth is 12742 kilometers.\n"
          ],
          "name": "stdout"
        }
      ]
    },
    {
      "cell_type": "code",
      "metadata": {
        "colab": {
          "base_uri": "https://localhost:8080/"
        },
        "id": "IrSfHgL-n36h",
        "outputId": "e8d5d89c-32e2-4ea8-f090-dd1ac2918dce"
      },
      "source": [
        "#QUES-3\n",
        "lst = [1,2,[3,4],[5,[100,200,['hello']],23,11],1,7]\n",
        "print(lst[3][1][2][0])"
      ],
      "execution_count": null,
      "outputs": [
        {
          "output_type": "stream",
          "text": [
            "hello\n"
          ],
          "name": "stdout"
        }
      ]
    },
    {
      "cell_type": "code",
      "metadata": {
        "colab": {
          "base_uri": "https://localhost:8080/"
        },
        "id": "Nj2Qsfyqn39m",
        "outputId": "52244c2b-8f03-417d-f40b-bb3e8c88334a"
      },
      "source": [
        "#QUES-4\n",
        "d={'k1':[1,2,3,{'tricky':['oh','man','inception',{'target':[1,2,3,'hello']}]}]}\n",
        "print(d['k1'][3]['tricky'][3]['target'][3])"
      ],
      "execution_count": null,
      "outputs": [
        {
          "output_type": "stream",
          "text": [
            "hello\n"
          ],
          "name": "stdout"
        }
      ]
    },
    {
      "cell_type": "code",
      "metadata": {
        "colab": {
          "base_uri": "https://localhost:8080/"
        },
        "id": "H-_HVnvKn4BM",
        "outputId": "2cd387c7-5e78-400d-9b65-8d061ec7ac61"
      },
      "source": [
        "#QUES-5\n",
        "def get_domain(str):\n",
        "    x=str.split('@')\n",
        "    y=x[1].split('.')\n",
        "    return y[0]\n",
        "email=\"user@domain.com\"\n",
        "\n",
        "y=get_domain(email)\n",
        "print(y)"
      ],
      "execution_count": null,
      "outputs": [
        {
          "output_type": "stream",
          "text": [
            "domain\n"
          ],
          "name": "stdout"
        }
      ]
    },
    {
      "cell_type": "code",
      "metadata": {
        "colab": {
          "base_uri": "https://localhost:8080/"
        },
        "id": "BNuYfUn2n4FP",
        "outputId": "3db666a1-7b9e-4b77-9aba-d2f7388ee378"
      },
      "source": [
        "#QUES-6\n",
        "def is_dog_present(x):\n",
        "    y=x.find('dog')\n",
        "    if y!=-1:\n",
        "      return True\n",
        "    else:\n",
        "      return False\n",
        "string=input(\"Enter String: \")\n",
        "print(is_dog_present(string))\n",
        "#Hello there! We bought one more dog for our house\n",
        "#Hello there! We bought two more cats for our house"
      ],
      "execution_count": null,
      "outputs": [
        {
          "output_type": "stream",
          "text": [
            "Enter String: Hello there! We bought one more dog for our house\n",
            "True\n"
          ],
          "name": "stdout"
        }
      ]
    },
    {
      "cell_type": "code",
      "metadata": {
        "colab": {
          "base_uri": "https://localhost:8080/"
        },
        "id": "Gw_NgfayoEgv",
        "outputId": "55ff4167-b93c-47ed-dde1-a39b147f2c6d"
      },
      "source": [
        "#QUES-7\n",
        "def countOccurrences(str, word):\n",
        "  count=0\n",
        "  for i in range(0,len(str)-3):\n",
        "    if word==str[i:i+3]:\n",
        "      count+=1\n",
        "  return count\n",
        "str =\"We have a dog, only one dog and that dog is very annoying\"\n",
        "word =\"dog\"\n",
        "print(countOccurrences(str, word))"
      ],
      "execution_count": null,
      "outputs": [
        {
          "output_type": "stream",
          "text": [
            "3\n"
          ],
          "name": "stdout"
        }
      ]
    },
    {
      "cell_type": "code",
      "metadata": {
        "colab": {
          "base_uri": "https://localhost:8080/"
        },
        "id": "tQ9nBNd8oEoe",
        "outputId": "3bed50c3-f77d-411d-b183-553e377d0f56"
      },
      "source": [
        "#QUES-8\n",
        "seq=['soup','dog','salad','cat','great']\n",
        "print(list(filter(lambda x:x[0]=='s',seq)))"
      ],
      "execution_count": null,
      "outputs": [
        {
          "output_type": "stream",
          "text": [
            "['soup', 'salad']\n"
          ],
          "name": "stdout"
        }
      ]
    },
    {
      "cell_type": "code",
      "metadata": {
        "id": "6ZRaoqqToExo",
        "colab": {
          "base_uri": "https://localhost:8080/"
        },
        "outputId": "761ecfd4-3637-4740-c0cd-d2db29321625"
      },
      "source": [
        "#QUES-9\n",
        "def caught_speeding(speed,birthday):\n",
        "    if(birthday==\"false\"):\n",
        "        if speed<=60:\n",
        "            print( \"No Challan\")\n",
        "        elif speed>=61 and speed<=80:\n",
        "            print(\"Small Challan\")\n",
        "        elif speed>=81:\n",
        "            print(\"Heavy Challan\")\n",
        "    elif (birthday==\"true\"):\n",
        "        caught_speeding(speed-5,\"false\")\n",
        "caught_speeding(81,\"true\")\n",
        "caught_speeding(81,\"false\")"
      ],
      "execution_count": null,
      "outputs": [
        {
          "output_type": "stream",
          "text": [
            "Small Challan\n",
            "Heavy Challan\n"
          ],
          "name": "stdout"
        }
      ]
    },
    {
      "cell_type": "code",
      "metadata": {
        "id": "wByGfFUroE6t",
        "colab": {
          "base_uri": "https://localhost:8080/"
        },
        "outputId": "971ceca8-e147-41cf-a484-ce2c4cb63d65"
      },
      "source": [
        "#QUES-10\n",
        "list1 = [\"M\", \"na\", \"i\", \"She\"] \n",
        "list2 = [\"y\", \"me\", \"s\", \"lly\"]\n",
        "\n",
        "list3 = [i + j for i, j in zip(list1, list2)]\n",
        "print(list3)"
      ],
      "execution_count": null,
      "outputs": [
        {
          "output_type": "stream",
          "text": [
            "['My', 'name', 'is', 'Shelly']\n"
          ],
          "name": "stdout"
        }
      ]
    },
    {
      "cell_type": "code",
      "metadata": {
        "colab": {
          "base_uri": "https://localhost:8080/"
        },
        "id": "mhCGgrC2j3Cv",
        "outputId": "05ae82d1-bc15-4002-ab03-28c7f358f05d"
      },
      "source": [
        "#QUES-11\n",
        "list1 = [\"Hello \", \"take \"] \n",
        "list2 = [\"Dear\", \"Sir\"]\n",
        "\n",
        "temp = [(a, b) for a in list1 for b in list2]\n",
        "list3 = [x + ' ' + y for (x,y) in temp]\n",
        "\n",
        "list3"
      ],
      "execution_count": null,
      "outputs": [
        {
          "output_type": "execute_result",
          "data": {
            "text/plain": [
              "['Hello  Dear', 'Hello  Sir', 'take  Dear', 'take  Sir']"
            ]
          },
          "metadata": {},
          "execution_count": 18
        }
      ]
    },
    {
      "cell_type": "code",
      "metadata": {
        "colab": {
          "base_uri": "https://localhost:8080/"
        },
        "id": "R9ihj3Gyj_Ya",
        "outputId": "7801dae2-65ce-4771-b7f2-16f355f55982"
      },
      "source": [
        "#QUES-12\n",
        "list1 = [10, 20, [300, 400, [5000, 6000], 500], 30, 40]\n",
        "list1[2][2].append(7000)\n",
        "list1\n"
      ],
      "execution_count": null,
      "outputs": [
        {
          "output_type": "execute_result",
          "data": {
            "text/plain": [
              "[10, 20, [300, 400, [5000, 6000, 7000], 500], 30, 40]"
            ]
          },
          "metadata": {},
          "execution_count": 19
        }
      ]
    },
    {
      "cell_type": "code",
      "metadata": {
        "colab": {
          "base_uri": "https://localhost:8080/"
        },
        "id": "amvHj5DpkNgd",
        "outputId": "e99c09b9-bb49-45a0-bc19-bd83021f6fa7"
      },
      "source": [
        "#QUES-13\n",
        "list1 = [5, 20, 15, 20, 25, 50, 20]\n",
        "\n",
        "def remove_20_occurrence(list1, rvalue):\n",
        "  return [value for value in list1 if value != rvalue]\n",
        "\n",
        "result = remove_20_occurrence(list1, 20)\n",
        "result"
      ],
      "execution_count": null,
      "outputs": [
        {
          "output_type": "execute_result",
          "data": {
            "text/plain": [
              "[5, 15, 25, 50]"
            ]
          },
          "metadata": {},
          "execution_count": 20
        }
      ]
    },
    {
      "cell_type": "code",
      "metadata": {
        "colab": {
          "base_uri": "https://localhost:8080/"
        },
        "id": "2CwfNI8lkk5m",
        "outputId": "322ccce8-95c2-4751-80dc-e15267c9413b"
      },
      "source": [
        "#QUES-14\n",
        "d1 = {'a': 100, 'b': 200, 'c': 300}\n",
        "if 200 in d1.values():\n",
        "  print(\"Yes\")\n",
        "else:\n",
        "  print(\"No\")"
      ],
      "execution_count": null,
      "outputs": [
        {
          "output_type": "stream",
          "text": [
            "Yes\n"
          ],
          "name": "stdout"
        }
      ]
    },
    {
      "cell_type": "code",
      "metadata": {
        "colab": {
          "base_uri": "https://localhost:8080/"
        },
        "id": "GpbYKWEfkq4k",
        "outputId": "4f53be56-f737-4148-e580-66ee10d81953"
      },
      "source": [
        "#QUES-15\n",
        "import math\n",
        "n = int(input(\"Number of terms: \"))\n",
        "def sumOfSeries(n):\n",
        "  return 0.0246 * (math.pow(10, n) - 1 - (9 * n))\n",
        "print(sumOfSeries(n))"
      ],
      "execution_count": null,
      "outputs": [
        {
          "output_type": "stream",
          "text": [
            "Number of terms: 5\n",
            "2458.8684\n"
          ],
          "name": "stdout"
        }
      ]
    }
  ]
}
